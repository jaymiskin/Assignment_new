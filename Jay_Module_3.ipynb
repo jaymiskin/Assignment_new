{
 "cells": [
  {
   "cell_type": "code",
   "execution_count": 1,
   "id": "55c9dea7",
   "metadata": {},
   "outputs": [
    {
     "data": {
      "text/plain": [
       "'In Python, there is a built-in function called reverse() that is used to reverse the list. This is a simple and \\nquick way to reverse a list that requires little memory. Syntax- list_name. reverse() Here, list_name means you have \\nto write the name of the list which has to be reversed.'"
      ]
     },
     "execution_count": 1,
     "metadata": {},
     "output_type": "execute_result"
    }
   ],
   "source": [
    "#1 What is List? How will you reverse a list?\n",
    "\"\"\"In Python, there is a built-in function called reverse() that is used to reverse the list. This is a simple and \n",
    "quick way to reverse a list that requires little memory. Syntax- list_name. reverse() Here, list_name means you have \n",
    "to write the name of the list which has to be reversed.\"\"\""
   ]
  },
  {
   "cell_type": "code",
   "execution_count": 2,
   "id": "5512479c",
   "metadata": {},
   "outputs": [
    {
     "name": "stdout",
     "output_type": "stream",
     "text": [
      "25\n"
     ]
    }
   ],
   "source": [
    "#2 How will you remove last object from a list?\n",
    "'''How will you remove last object from a list?\n",
    "   Suppose list1 is [2, 33, 222, 14, and 25], what is list1 [-1]?'''\n",
    "# list. pop() removes and returns the last element of the list.\n",
    "list1 = [2, 33, 222, 14, 25]\n",
    "print(list1.pop())"
   ]
  },
  {
   "cell_type": "code",
   "execution_count": 3,
   "id": "372138f2",
   "metadata": {},
   "outputs": [
    {
     "data": {
      "text/plain": [
       "'append() adds a single element to the end of the list while . extend() \\ncan add multiple individual elements to the end of the list'"
      ]
     },
     "execution_count": 3,
     "metadata": {},
     "output_type": "execute_result"
    }
   ],
   "source": [
    "#3 Differentiate between append () and extend () methods?\n",
    "'''append() adds a single element to the end of the list while . extend() \n",
    "can add multiple individual elements to the end of the list'''"
   ]
  },
  {
   "cell_type": "code",
   "execution_count": 4,
   "id": "b075478f",
   "metadata": {},
   "outputs": [
    {
     "name": "stdout",
     "output_type": "stream",
     "text": [
      "Largest Element is: 45\n",
      "Smallest Element is: 1\n",
      "Second Largest Element is: 41\n",
      "Second Smallest Element is: 2\n"
     ]
    }
   ],
   "source": [
    "#4 Write a Python function to get the largest number, smallest num and sum of all from a list.\n",
    "def find(list1):\n",
    "    lenght = len(list1)\n",
    "    list1.sort()\n",
    "    print(\"Largest Element is:\", list1[lenght-1])\n",
    "    print(\"Smallest Element is:\", list1[0])\n",
    "    print(\"Second Largest Element is:\", list1[lenght-2])\n",
    "    print(\"Second Smallest Element is:\", list1[1])\n",
    "    \n",
    "list1=[12, 45, 2, 41, 31, 10, 8, 6, 1,  4]\n",
    "Largest = find(list1)"
   ]
  },
  {
   "cell_type": "code",
   "execution_count": 5,
   "id": "25372e70",
   "metadata": {},
   "outputs": [
    {
     "name": "stdout",
     "output_type": "stream",
     "text": [
      "The list1 and list2 are equal\n"
     ]
    }
   ],
   "source": [
    "#5 How will you compare two lists?\n",
    "list1 = [11, 12, 13, 14, 15]  \n",
    "list2 = [12, 13, 11, 15, 14]  \n",
    "  \n",
    "a = set(list1)  \n",
    "b = set(list2)  \n",
    "  \n",
    "if a == b:  \n",
    "    print(\"The list1 and list2 are equal\")  \n",
    "else:  \n",
    "    print(\"The list1 and list2 are not equal\")  "
   ]
  },
  {
   "cell_type": "code",
   "execution_count": 9,
   "id": "e02de1e7",
   "metadata": {},
   "outputs": [
    {
     "name": "stdout",
     "output_type": "stream",
     "text": [
      "2\n"
     ]
    }
   ],
   "source": [
    "#6\n",
    "'''Write a Python program to count the number of strings where the string \n",
    "length is 2 or more and the first and last character are same from a given \n",
    "list of strings.'''\n"
   ]
  },
  {
   "cell_type": "code",
   "execution_count": 6,
   "id": "fdb3981c",
   "metadata": {},
   "outputs": [
    {
     "name": "stdout",
     "output_type": "stream",
     "text": [
      "[1, 2, 4, 6]\n"
     ]
    }
   ],
   "source": [
    "#7 Write a Python program to remove duplicates from a list.\n",
    "list_1 = [1, 2, 1, 4, 6]\n",
    "\n",
    "print(list(set(list_1)))"
   ]
  },
  {
   "cell_type": "code",
   "execution_count": 7,
   "id": "ad25182d",
   "metadata": {},
   "outputs": [
    {
     "name": "stdout",
     "output_type": "stream",
     "text": [
      "the list is not empty\n"
     ]
    }
   ],
   "source": [
    "#8 Write a Python program to check a list is empty or not. \n",
    "my_list = [5, 6, 85, 36, 1]\n",
    "if not len(my_list):\n",
    "    print(\"the list is empty\")\n",
    "else:\n",
    "    print(\"the list is not empty\")"
   ]
  },
  {
   "cell_type": "code",
   "execution_count": 8,
   "id": "4ab5446b",
   "metadata": {},
   "outputs": [
    {
     "name": "stdout",
     "output_type": "stream",
     "text": [
      "True\n",
      "None\n"
     ]
    }
   ],
   "source": [
    "#9 Write a Python function that takes two lists and returns true if they have at least one common member.\n",
    "\n",
    "def common_data(list1, list2):\n",
    "     result = False\n",
    "     for x in list1:\n",
    "         for y in list2:\n",
    "             if x == y:\n",
    "                 result = True\n",
    "                 return result\n",
    "print(common_data([1,2,3,4,5], [5,6,7,8,9]))\n",
    "print(common_data([1,2,3,4,5], [6,7,8,9]))"
   ]
  },
  {
   "cell_type": "code",
   "execution_count": 9,
   "id": "e757565d",
   "metadata": {},
   "outputs": [
    {
     "name": "stdout",
     "output_type": "stream",
     "text": [
      "[1, 4, 9, 16, 25]\n",
      "[256, 289, 324, 361, 400]\n"
     ]
    }
   ],
   "source": [
    "#10 Write a Python program to generate and print a list of first and last 5 elements where the values are square of numbers between 1 and 30. \n",
    "def printValues():\n",
    "    l = list()\n",
    "    for i in range(1,21):\n",
    "        l.append(i**2)\n",
    "    print(l[:5])\n",
    "    print(l[-5:])\n",
    "\n",
    "printValues()\n"
   ]
  },
  {
   "cell_type": "code",
   "execution_count": 10,
   "id": "5349aae4",
   "metadata": {},
   "outputs": [
    {
     "name": "stdout",
     "output_type": "stream",
     "text": [
      "[1, 2, 6, 3, 4, 5]\n"
     ]
    }
   ],
   "source": [
    "#13 Write a Python function that takes a list and returns a new list with unique elements of the first list.\n",
    "def f(l):\n",
    "    x = []\n",
    "    for a in l:\n",
    "        if a not in x:\n",
    "            x.append(a)\n",
    "    return x\n",
    "\n",
    "print(f([1,2,1,6,2,3,3,3,3,4,5]))"
   ]
  },
  {
   "cell_type": "code",
   "execution_count": 11,
   "id": "2b6e793f",
   "metadata": {},
   "outputs": [
    {
     "name": "stdout",
     "output_type": "stream",
     "text": [
      "abhi\n"
     ]
    }
   ],
   "source": [
    "#12 Write a Python program to convert a list of characters into a string.\n",
    "\n",
    "a = ['a', 'b', 'h', 'i']\n",
    "str1 = ''.join(a)\n",
    "print(str1)"
   ]
  },
  {
   "cell_type": "code",
   "execution_count": 12,
   "id": "227f3576",
   "metadata": {},
   "outputs": [],
   "source": [
    "#13 Write a Python program to select an item randomly from a list.\n"
   ]
  },
  {
   "cell_type": "code",
   "execution_count": 13,
   "id": "aef42ba5",
   "metadata": {},
   "outputs": [
    {
     "name": "stdout",
     "output_type": "stream",
     "text": [
      "-2\n",
      "0\n",
      "0\n",
      "None\n",
      "None\n"
     ]
    }
   ],
   "source": [
    "#14 Write a Python program to find the second smallest number in a list.\n",
    "def second_smallest(numbers):\n",
    "  if (len(numbers)<2):\n",
    "    return\n",
    "  if ((len(numbers)==2)  and (numbers[0] == numbers[1]) ):\n",
    "    return\n",
    "  dup_items = set()\n",
    "  uniq_items = []\n",
    "  for x in numbers:\n",
    "    if x not in dup_items:\n",
    "      uniq_items.append(x)\n",
    "      dup_items.add(x)\n",
    "  uniq_items.sort()    \n",
    "  return  uniq_items[1]   \n",
    "\n",
    "print(second_smallest([1, 2, -8, -2, 0, -2]))\n",
    "print(second_smallest([1, 1, 0, 0, 2, -2, -2]))\n",
    "print(second_smallest([1, 1, 1, 0, 0, 0, 2, -2, -2]))\n",
    "print(second_smallest([2,2]))\n",
    "print(second_smallest([2]))"
   ]
  },
  {
   "cell_type": "code",
   "execution_count": 16,
   "id": "b8781ccf",
   "metadata": {},
   "outputs": [
    {
     "name": "stdout",
     "output_type": "stream",
     "text": [
      "Original List :  [10, 20, 30, 40, 20, 50, 60, 40]\n",
      "List of unique numbers :  [40, 10, 50, 20, 60, 30]\n"
     ]
    }
   ],
   "source": [
    "#15 Write a Python program to get unique values from a list\n",
    "my_list = [10, 20, 30, 40, 20, 50, 60, 40]\n",
    "print(\"Original List : \",my_list)\n",
    "my_set = set(my_list)\n",
    "my_new_list = list(my_set)\n",
    "print(\"List of unique numbers : \",my_new_list)"
   ]
  },
  {
   "cell_type": "code",
   "execution_count": 20,
   "id": "3dc7af8e",
   "metadata": {},
   "outputs": [],
   "source": [
    "#16 Write a Python program to check whether a list contains a sub list \n"
   ]
  },
  {
   "cell_type": "code",
   "execution_count": 17,
   "id": "1a77280e",
   "metadata": {},
   "outputs": [
    {
     "name": "stdout",
     "output_type": "stream",
     "text": [
      "[(1, 6, 8, 11), ('hi', 'Hello', 'Hey'), (True, False)]\n"
     ]
    }
   ],
   "source": [
    "#17 Write a Python program to split a list into different variables. \n",
    "main = [(1,6,8,11), (\"hi\", \"Hello\",\"Hey\"),(True, False)]\n",
    "num1,str1,bool1 = main\n",
    "print(main)"
   ]
  },
  {
   "cell_type": "code",
   "execution_count": 18,
   "id": "63907edd",
   "metadata": {},
   "outputs": [
    {
     "data": {
      "text/plain": [
       "'\\n\\tLIST\\tTUPLE\\n1\\tLists are mutable\\tTuples are immutable\\n2\\tThe implication of iterations is Time-consuming\\tThe implication of iterations is comparatively Faster\\n3\\tThe list is better for performing operations, such as insertion and deletion.\\tTuple data type is appropriate for accessing the elements\\n4\\tLists consume more memory\\tTuple consumes less memory as compared to the list\\n5\\tLists have several built-in methods\\tTuple does not have many built-in methods.\\n6\\tThe unexpected changes and errors are more likely to occur\\tIn tuple, it is hard to take place.\\n'"
      ]
     },
     "execution_count": 18,
     "metadata": {},
     "output_type": "execute_result"
    }
   ],
   "source": [
    "#18 What is tuple? Difference between list and tuple.\n",
    "'''Tuple. Tuples are used to store multiple items in a single variable. Tuple is one of 4 built-in data types in Python used\n",
    "to store collections of data, the other 3 are List, Set, and Dictionary, all with different qualities and usage. A tuple is \n",
    "a collection which is ordered and unchangeable.'''\n",
    "'''\n",
    "\tLIST\tTUPLE\n",
    "1\tLists are mutable\tTuples are immutable\n",
    "2\tThe implication of iterations is Time-consuming\tThe implication of iterations is comparatively Faster\n",
    "3\tThe list is better for performing operations, such as insertion and deletion.\tTuple data type is appropriate for accessing the elements\n",
    "4\tLists consume more memory\tTuple consumes less memory as compared to the list\n",
    "5\tLists have several built-in methods\tTuple does not have many built-in methods.\n",
    "6\tThe unexpected changes and errors are more likely to occur\tIn tuple, it is hard to take place.\n",
    "'''"
   ]
  },
  {
   "cell_type": "code",
   "execution_count": 19,
   "id": "835a724f",
   "metadata": {},
   "outputs": [
    {
     "name": "stdout",
     "output_type": "stream",
     "text": [
      "('Hello Tops', 19, 19.3, True)\n"
     ]
    }
   ],
   "source": [
    "#19 Write a Python program to create a tuple with different data types.\n",
    "Main_tuple = (\"Hello Tops\", 19, 19.3, True)\n",
    "print(Main_tuple)"
   ]
  },
  {
   "cell_type": "code",
   "execution_count": 20,
   "id": "1b415200",
   "metadata": {},
   "outputs": [
    {
     "name": "stdout",
     "output_type": "stream",
     "text": [
      "(5, 10, 15, 20, 25)\n",
      "(5,)\n"
     ]
    }
   ],
   "source": [
    "#20 Write a Python program to create a tuple with numbers.\n",
    "#Create a tuple with numbers\n",
    "tuple0 = 5, 10, 15, 20, 25\n",
    "print(tuple0)\n",
    "#Create a tuple of one item\n",
    "tuple0 = 5,\n",
    "print(tuple0)"
   ]
  },
  {
   "cell_type": "code",
   "execution_count": 21,
   "id": "9eaa9af9",
   "metadata": {},
   "outputs": [
    {
     "name": "stdout",
     "output_type": "stream",
     "text": [
      "Miskin\n"
     ]
    }
   ],
   "source": [
    "#22 Write a Python program to convert a tuple to a string.\n",
    "tup = ('M', 'i', 's', 'k','i','n')\n",
    "str = ''.join(tup)\n",
    "print(str)\n"
   ]
  },
  {
   "cell_type": "code",
   "execution_count": 22,
   "id": "41917bec",
   "metadata": {},
   "outputs": [
    {
     "name": "stdout",
     "output_type": "stream",
     "text": [
      "True\n",
      "False\n"
     ]
    }
   ],
   "source": [
    "#21 Write a Python program to check whether an element exists within a tuple.\n",
    "\n",
    "tpl = (\"Abhi\", \"Miskin\", 23, 520, 5)\n",
    "print(\"Abhi\" in tpl)\n",
    "print(56 in tpl)"
   ]
  },
  {
   "cell_type": "code",
   "execution_count": 23,
   "id": "dbd4ba83",
   "metadata": {},
   "outputs": [
    {
     "name": "stdout",
     "output_type": "stream",
     "text": [
      "('Abhi', 'Miskin', 23, 520, 5)\n",
      "5\n"
     ]
    }
   ],
   "source": [
    "#22 Write a Python program to find the length of a tuple.\n",
    "main_tpl = (\"Abhi\", \"Miskin\", 23, 520, 5)\n",
    "print(main_tpl)\n",
    "print(len(main_tpl))"
   ]
  },
  {
   "cell_type": "code",
   "execution_count": 24,
   "id": "8de84a34",
   "metadata": {},
   "outputs": [
    {
     "name": "stdout",
     "output_type": "stream",
     "text": [
      "[23, 65, 'Abhi', 5.3]\n",
      "(23, 65, 'Abhi', 5.3)\n"
     ]
    }
   ],
   "source": [
    "#23 Write a Python program to convert a list to a tuple.\n",
    "L1 = [23, 65, \"Abhi\", 5.3]\n",
    "t1 = tuple(L1)\n",
    "print(L1)\n",
    "print(t1)"
   ]
  },
  {
   "cell_type": "code",
   "execution_count": 25,
   "id": "ee007f2d",
   "metadata": {},
   "outputs": [
    {
     "name": "stdout",
     "output_type": "stream",
     "text": [
      "('Miskin', 'Abhi')\n",
      "('k', 'e', 'h', 's', 'i', 'h', 'b', 'A')\n",
      "(20, 15, 10, 5)\n"
     ]
    }
   ],
   "source": [
    "#24 Write a Python program to reverse a tuple.\n",
    "#create a tuple\n",
    "x = (\"Abhi\", \"Miskin\")\n",
    "x1 =(\"Abhishek\")\n",
    "# Reversed the tuple\n",
    "y = reversed(x)\n",
    "y1 = reversed(x1)\n",
    "print(tuple(y))\n",
    "print(tuple(y1))\n",
    "#create another tuple\n",
    "x = (5, 10, 15, 20)\n",
    "# Reversed the tuple\n",
    "y = reversed(x)\n",
    "print(tuple(y))"
   ]
  },
  {
   "cell_type": "code",
   "execution_count": 26,
   "id": "ba93261a",
   "metadata": {},
   "outputs": [],
   "source": [
    "#25 Write a Python program to replace last value of tuples in a list.\n"
   ]
  },
  {
   "cell_type": "code",
   "execution_count": 27,
   "id": "fa3eb17e",
   "metadata": {},
   "outputs": [
    {
     "name": "stdout",
     "output_type": "stream",
     "text": [
      "(2, 5, 6, 2, 5, 2, 8, 4)\n",
      "3\n"
     ]
    }
   ],
   "source": [
    "#26 Write a Python program to find the repeated items of a tuple. \n",
    "tup = 2, 5, 6, 2, 5, 2, 8, 4\n",
    "print(tup)\n",
    "count = tup.count(2)\n",
    "print(count)"
   ]
  },
  {
   "cell_type": "code",
   "execution_count": 28,
   "id": "4779bb7e",
   "metadata": {},
   "outputs": [],
   "source": [
    "#27 Write a Python program to remove an empty tuple(s) from a list of tuples.\n"
   ]
  },
  {
   "cell_type": "code",
   "execution_count": 29,
   "id": "c340cf4d",
   "metadata": {},
   "outputs": [
    {
     "name": "stdout",
     "output_type": "stream",
     "text": [
      "[(1, 3, 8), (2, 4, 9)]\n"
     ]
    }
   ],
   "source": [
    "#28 Write a Python program to unzip a list of tuples into individual lists.\n",
    "\n",
    "#create a tuple\n",
    "l = [(1,2), (3,4), (8,9)]\n",
    "print(list(zip(*l)))"
   ]
  },
  {
   "cell_type": "code",
   "execution_count": 30,
   "id": "e067db0b",
   "metadata": {},
   "outputs": [
    {
     "name": "stdout",
     "output_type": "stream",
     "text": [
      "{10: 5, 'Hello': 'Hi', 'Good': 'Fine'}\n"
     ]
    }
   ],
   "source": [
    "#29 Write a Python program to convert a list of tuples into a dictionary. \n",
    "l1 = [(10, 5), (\"Hello\", \"Hi\"), (\"Good\", \"Fine\") ]\n",
    "d1 = dict(l1)\n",
    "print(d1)"
   ]
  },
  {
   "cell_type": "code",
   "execution_count": 31,
   "id": "3e0da00a",
   "metadata": {},
   "outputs": [
    {
     "name": "stdout",
     "output_type": "stream",
     "text": [
      "{'a': 1, 'b': 2, 'c': 3}\n",
      "{1: 'a', 2: 'b', 3: 'c'}\n"
     ]
    }
   ],
   "source": [
    "#30 How will you create a dictionary using tuples in python?\n",
    "t = ((\"a\", 1),('b', 2),('c',3))\n",
    "di1 = dict(t)\n",
    "di2 = dict((y,x) for x,y in t)\n",
    "print(di1)\n",
    "print(di2)"
   ]
  },
  {
   "cell_type": "code",
   "execution_count": 32,
   "id": "8ba0e13b",
   "metadata": {},
   "outputs": [
    {
     "name": "stdout",
     "output_type": "stream",
     "text": [
      "ascending order :  [(0, 0), (2, 1), (1, 2), (4, 3), (3, 4)]\n",
      "descending order :  {3: 4, 4: 3, 1: 2, 2: 1, 0: 0}\n"
     ]
    }
   ],
   "source": [
    "#31 Write a Python script to sort (ascending and descending) a dictionary by value.\n",
    "import operator\n",
    "\n",
    "d = {1: 2, 3: 4, 4: 3, 2: 1, 0: 0}\n",
    "\n",
    "s= sorted(d.items(), key=operator.itemgetter(1))\n",
    "\n",
    "print('ascending order : ',s)\n",
    "\n",
    "s1= dict( sorted(d.items(), key=operator.itemgetter(1),reverse=True))\n",
    "\n",
    "print('descending order : ',s1)"
   ]
  },
  {
   "cell_type": "code",
   "execution_count": 33,
   "id": "aa4debbc",
   "metadata": {},
   "outputs": [
    {
     "name": "stdout",
     "output_type": "stream",
     "text": [
      "{1: 10, 2: 20, 3: 30, 4: 40, 5: 50, 6: 60}\n",
      "{1: 10, 2: 20, 3: 30, 4: 40, 5: 50, 6: 60}\n",
      "{1: 10, 2: 20, 3: 30, 4: 40}\n"
     ]
    }
   ],
   "source": [
    "#32 Write a Python script to concatenate following dictionaries to create a new one.\n",
    "dic1={1:10, 2:20}\n",
    "dic2={3:30, 4:40}\n",
    "dic3={5:50,6:60}\n",
    "dic4 = {}\n",
    "for d in (dic1, dic2, dic3): dic4.update(d)\n",
    "print(dic4)\n",
    "dic5 = {**dic1,**dic2,**dic3}\n",
    "print(dic5)\n",
    "dic1.update(dic2)\n",
    "print(dic1)"
   ]
  },
  {
   "cell_type": "code",
   "execution_count": 34,
   "id": "5a5c6a43",
   "metadata": {},
   "outputs": [
    {
     "name": "stdout",
     "output_type": "stream",
     "text": [
      "Key is present in the dictionary\n",
      "None\n",
      "Key is not present in the dictionary\n",
      "None\n"
     ]
    }
   ],
   "source": [
    "#33 Write a Python script to check if a given key already exists in a dictionary.\n",
    "d = {1: 10, 2: 20, 3: 30, 4: 40, 5: 50, 6: 60}\n",
    "def is_key_present(x):\n",
    "    if x in d:\n",
    "      print('Key is present in the dictionary')\n",
    "    else:\n",
    "      print('Key is not present in the dictionary')\n",
    "print(is_key_present(5))\n",
    "print(is_key_present(9))"
   ]
  },
  {
   "cell_type": "code",
   "execution_count": 35,
   "id": "4fa8849d",
   "metadata": {},
   "outputs": [
    {
     "data": {
      "text/plain": [
       "'There are multiple ways to iterate over a dictionary in Python.\\n1. Access key using the build .keys()\\n2. Access key without using a key()\\n3. Iterate through all values using .values()\\n4. Iterate through all key, and value pairs using items()\\n5. Access both key and value without using items()\\n6. Print items in Key-Value in pair.'"
      ]
     },
     "execution_count": 35,
     "metadata": {},
     "output_type": "execute_result"
    }
   ],
   "source": [
    "#34 How Do You Traverse Through A Dictionary Object In Python?\n",
    "'''There are multiple ways to iterate over a dictionary in Python.\n",
    "1. Access key using the build .keys()\n",
    "2. Access key without using a key()\n",
    "3. Iterate through all values using .values()\n",
    "4. Iterate through all key, and value pairs using items()\n",
    "5. Access both key and value without using items()\n",
    "6. Print items in Key-Value in pair.'''"
   ]
  },
  {
   "cell_type": "code",
   "execution_count": 36,
   "id": "cd7d7657",
   "metadata": {},
   "outputs": [
    {
     "data": {
      "text/plain": [
       "'Check If Key Exists using has_key() method\\nUsing has_key() method returns true if a given key is available in the dictionary, otherwise, it returns a false. With \\nthe Inbuilt method has_key(), use the if statement to check if the key is present in the dictionary or not.'"
      ]
     },
     "execution_count": 36,
     "metadata": {},
     "output_type": "execute_result"
    }
   ],
   "source": [
    "#35 How Do You Check The Presence Of A Key In A Dictionary?\n",
    "'''Check If Key Exists using has_key() method\n",
    "Using has_key() method returns true if a given key is available in the dictionary, otherwise, it returns a false. With \n",
    "the Inbuilt method has_key(), use the if statement to check if the key is present in the dictionary or not.'''"
   ]
  },
  {
   "cell_type": "code",
   "execution_count": 37,
   "id": "31c04c11",
   "metadata": {},
   "outputs": [
    {
     "name": "stdout",
     "output_type": "stream",
     "text": [
      "{1: 1, 2: 4, 3: 9, 4: 16, 5: 25, 6: 36, 7: 49, 8: 64, 9: 81, 10: 100, 11: 121, 12: 144, 13: 169, 14: 196, 15: 225}\n"
     ]
    }
   ],
   "source": [
    "#35 Write a Python script to print a dictionary where the keys are numbers between 1 and 15.\n",
    "d=dict()\n",
    "for x in range(1,16):\n",
    "    d[x]=x**2\n",
    "print(d)"
   ]
  },
  {
   "cell_type": "code",
   "execution_count": 38,
   "id": "6f3d9feb",
   "metadata": {},
   "outputs": [
    {
     "name": "stdout",
     "output_type": "stream",
     "text": [
      "True\n",
      "False\n",
      "True\n"
     ]
    }
   ],
   "source": [
    "#36 Write a Python program to check multiple keys exists in a dictionary\n",
    "student = {\n",
    "  'name': 'Alex',\n",
    "  'class': 'V',\n",
    "  'roll_id': '2'\n",
    "}\n",
    "print(student.keys() >= {'class', 'name'})\n",
    "print(student.keys() >= {'name', 'Alex'})\n",
    "print(student.keys() >= {'roll_id', 'name'})"
   ]
  },
  {
   "cell_type": "code",
   "execution_count": 39,
   "id": "5c7cdaad",
   "metadata": {},
   "outputs": [
    {
     "name": "stdout",
     "output_type": "stream",
     "text": [
      "{'a': 100, 'b': 200, 'x': 300, 'y': 200}\n",
      "{'a': 100, 'b': 200, 'x': 300, 'y': 200}\n"
     ]
    }
   ],
   "source": [
    "#37 Write a Python script to merge two Python dictionaries\n",
    "d1 = {'a': 100, 'b': 200}\n",
    "d2 = {'x': 300, 'y': 200}\n",
    "d = d1.copy()\n",
    "d.update(d2)\n",
    "d1.update(d2)\n",
    "print(d)\n",
    "print(d1)"
   ]
  },
  {
   "cell_type": "code",
   "execution_count": 40,
   "id": "90294154",
   "metadata": {},
   "outputs": [
    {
     "name": "stdout",
     "output_type": "stream",
     "text": [
      "{'red': '#FF0000', 'green': '#008000', 'blue': '#0000FF'}\n"
     ]
    }
   ],
   "source": [
    "#38 Write a Python program to map two lists into a dictionary\n",
    "keys = ['red', 'green', 'blue']\n",
    "values = ['#FF0000','#008000', '#0000FF']\n",
    "color_dictionary = dict(zip(keys, values))\n",
    "print(color_dictionary)"
   ]
  },
  {
   "cell_type": "code",
   "execution_count": 41,
   "id": "af3a886b",
   "metadata": {},
   "outputs": [
    {
     "name": "stdout",
     "output_type": "stream",
     "text": [
      "Counter({'a': 400, 'b': 400, 'd': 400, 'c': 300})\n"
     ]
    }
   ],
   "source": [
    "#39 Write a Python program to combine two dictionary adding values for common keys.\n",
    "from collections import Counter\n",
    "d1 = {'a': 100, 'b': 200, 'c':300}\n",
    "d2 = {'a': 300, 'b': 200, 'd':400}\n",
    "d = Counter(d1) + Counter(d2)\n",
    "print(d)"
   ]
  },
  {
   "cell_type": "code",
   "execution_count": 42,
   "id": "c449871e",
   "metadata": {},
   "outputs": [
    {
     "name": "stdout",
     "output_type": "stream",
     "text": [
      "Original List:  [{'V': 'S001'}, {'V': 'S002'}, {'VI': 'S001'}, {'VI': 'S005'}, {'VII': 'S005'}, {'V': 'S009'}, {'VIII': 'S007'}]\n",
      "Unique Values:  {'S007', 'S002', 'S001', 'S005', 'S009'}\n"
     ]
    }
   ],
   "source": [
    "#40 Write a Python program to print all unique values in a dictionary.\n",
    "L = [{\"V\":\"S001\"}, {\"V\": \"S002\"}, {\"VI\": \"S001\"}, {\"VI\": \"S005\"}, {\"VII\":\"S005\"}, {\"V\":\"S009\"},{\"VIII\":\"S007\"}]\n",
    "print(\"Original List: \",L)\n",
    "u_value = set( val for dic in L for val in dic.values())\n",
    "print(\"Unique Values: \",u_value)"
   ]
  },
  {
   "cell_type": "code",
   "execution_count": 43,
   "id": "a60d7a63",
   "metadata": {},
   "outputs": [
    {
     "data": {
      "text/plain": [
       "\"Python's zip() function creates an iterator that will aggregate elements from two or more iterables. You can use the \\nresulting iterator to quickly and consistently solve common programming problems, like creating dictionaries.\""
      ]
     },
     "execution_count": 43,
     "metadata": {},
     "output_type": "execute_result"
    }
   ],
   "source": [
    "#41 Why Do You Use the Zip () Method in Python? \n",
    "'''Python's zip() function creates an iterator that will aggregate elements from two or more iterables. You can use the \n",
    "resulting iterator to quickly and consistently solve common programming problems, like creating dictionaries.'''"
   ]
  },
  {
   "cell_type": "code",
   "execution_count": 44,
   "id": "e359e831",
   "metadata": {},
   "outputs": [
    {
     "name": "stdout",
     "output_type": "stream",
     "text": [
      "ac\n",
      "ad\n",
      "bc\n",
      "bd\n"
     ]
    },
    {
     "ename": "NameError",
     "evalue": "name 'product' is not defined",
     "output_type": "error",
     "traceback": [
      "\u001b[1;31m---------------------------------------------------------------------------\u001b[0m",
      "\u001b[1;31mNameError\u001b[0m                                 Traceback (most recent call last)",
      "Input \u001b[1;32mIn [44]\u001b[0m, in \u001b[0;36m<cell line: 13>\u001b[1;34m()\u001b[0m\n\u001b[0;32m      9\u001b[0m \u001b[38;5;66;03m# from itertools import product\u001b[39;00m\n\u001b[0;32m     11\u001b[0m d \u001b[38;5;241m=\u001b[39m{\u001b[38;5;124m'\u001b[39m\u001b[38;5;124m1\u001b[39m\u001b[38;5;124m'\u001b[39m:[\u001b[38;5;124m'\u001b[39m\u001b[38;5;124ma\u001b[39m\u001b[38;5;124m'\u001b[39m,\u001b[38;5;124m'\u001b[39m\u001b[38;5;124mb\u001b[39m\u001b[38;5;124m'\u001b[39m], \u001b[38;5;124m'\u001b[39m\u001b[38;5;124m2\u001b[39m\u001b[38;5;124m'\u001b[39m:[\u001b[38;5;124m'\u001b[39m\u001b[38;5;124mc\u001b[39m\u001b[38;5;124m'\u001b[39m,\u001b[38;5;124m'\u001b[39m\u001b[38;5;124md\u001b[39m\u001b[38;5;124m'\u001b[39m]}\n\u001b[1;32m---> 13\u001b[0m \u001b[38;5;28;01mfor\u001b[39;00m x, y \u001b[38;5;129;01min\u001b[39;00m \u001b[43mproduct\u001b[49m(\u001b[38;5;241m*\u001b[39md\u001b[38;5;241m.\u001b[39mvalues()):\n\u001b[0;32m     14\u001b[0m     \u001b[38;5;28mprint\u001b[39m(x \u001b[38;5;241m+\u001b[39m y)\n",
      "\u001b[1;31mNameError\u001b[0m: name 'product' is not defined"
     ]
    }
   ],
   "source": [
    "#42 Write a Python program to create and display all combinations of letters, selecting each letter from a different key in a dictionary. \n",
    "d =  {'1': ['a','b'], '2': ['c','d']}\n",
    "for x in d[\"1\"]:\n",
    "    for y in d['2']:\n",
    "        print(x+y)\n",
    "        \n",
    "d ={'1':['a','b'], '2':['c','d']}\n",
    "\n",
    "# from itertools import product\n",
    "\n",
    "d ={'1':['a','b'], '2':['c','d']}\n",
    "\n",
    "for x, y in product(*d.values()):\n",
    "    print(x + y)\n"
   ]
  },
  {
   "cell_type": "code",
   "execution_count": null,
   "id": "44f366ac",
   "metadata": {},
   "outputs": [],
   "source": [
    "#43 Write a Python program to find the highest 3 values in a dictionary\n",
    "\n",
    "my_dict = {\"A\":3,\"B\":4,\"H\":1,\"K\":8,\"T\":0}\n",
    "\n",
    "my_keys = sorted(my_dict, key=my_dict.get, reverse=True)[:3]\n",
    "\n",
    "# where `my_keys` holds the value:\n",
    "print(my_keys)"
   ]
  },
  {
   "cell_type": "code",
   "execution_count": 45,
   "id": "ae54fd01",
   "metadata": {},
   "outputs": [
    {
     "name": "stdout",
     "output_type": "stream",
     "text": [
      "Counter({'item1': 1150, 'item2': 300})\n"
     ]
    }
   ],
   "source": [
    "#44 Write a Python program to combine values in python list of dictionaries. Sample data: [{'item': 'item1', 'amount': 400}, {'item': 'item2', 'amount': 300}, o {'item': 'item1', 'amount': 750}] \n",
    "\n",
    "item_list = [{'item': 'item1', 'amount': 400}, {'item': 'item2', 'amount': 300}, {'item': 'item1', 'amount': 750}]\n",
    "result = Counter()\n",
    "for d in item_list:\n",
    "    result[d['item']] += d['amount']\n",
    "print(result) "
   ]
  },
  {
   "cell_type": "code",
   "execution_count": 46,
   "id": "8f77ca3f",
   "metadata": {},
   "outputs": [
    {
     "name": "stdout",
     "output_type": "stream",
     "text": [
      "{'w': 1, '3': 1, 'r': 2, 'e': 2, 's': 1, 'o': 1, 'u': 1, 'c': 1}\n"
     ]
    }
   ],
   "source": [
    "#45 Write a Python program to create a dictionary from a string. Note: Track the count of the letters from the string. Sample string: \n",
    "\n",
    "str1 = 'w3resource' \n",
    "my_dict = {}\n",
    "for letter in str1:\n",
    "    my_dict[letter] = my_dict.get(letter, 0) + 1\n",
    "print(my_dict)"
   ]
  },
  {
   "cell_type": "code",
   "execution_count": 48,
   "id": "a6791fe7",
   "metadata": {},
   "outputs": [
    {
     "name": "stdout",
     "output_type": "stream",
     "text": [
      "Input a number to compute the factiorial : 5\n",
      "120\n"
     ]
    }
   ],
   "source": [
    "#46 Write a Python function to calculate the factorial of a number (a nonnegative integer)\n",
    "\n",
    "def factorial(n):\n",
    "    if n == 0:\n",
    "        return 1\n",
    "    else:\n",
    "        return n * factorial(n-1)\n",
    "n=int(input(\"Input a number to compute the factiorial : \"))\n",
    "print(factorial(n))"
   ]
  },
  {
   "cell_type": "code",
   "execution_count": 1,
   "id": "21f5e731",
   "metadata": {},
   "outputs": [
    {
     "name": "stdout",
     "output_type": "stream",
     "text": [
      "Number 15 is in the range\n"
     ]
    }
   ],
   "source": [
    "#47 Write a Python function to check whether a number is in a given range\n",
    "def test_range(n):\n",
    "    if n in range(10,20):\n",
    "        print( \"Number %s is in the range\"%str(n))\n",
    "    else :\n",
    "        print(\"The number is outside the given range.\")\n",
    "test_range(15)"
   ]
  },
  {
   "cell_type": "code",
   "execution_count": 18,
   "id": "b2b15e67",
   "metadata": {},
   "outputs": [
    {
     "name": "stdout",
     "output_type": "stream",
     "text": [
      "True\n"
     ]
    }
   ],
   "source": [
    "#48 Write a Python function that checks whether a passed string is palindrome or not \n",
    "\n",
    "def isPalindrome(string):\n",
    "    left_pos = 0\n",
    "    right_pos = len(string) - 1\n",
    "    \n",
    "    while right_pos >= left_pos:\n",
    "        if not string[left_pos] == string[right_pos]:\n",
    "            return False\n",
    "        left_pos += 1\n",
    "        right_pos -= 1\n",
    "    return True\n",
    "print(isPalindrome('aza')) \n"
   ]
  },
  {
   "cell_type": "code",
   "execution_count": 20,
   "id": "9baa97f6",
   "metadata": {},
   "outputs": [],
   "source": [
    "#49 How Many Basic Types Of Functions Are Available In Python?\n",
    "\n",
    "\"\"\"There are two basic types of functions: built-in functions and user defined functions. The built-in functions are \n",
    "part of the Python language; for instance dir , len , or abs . The user defined functions are functions created with \n",
    "the def keyword\"\"\""
   ]
  },
  {
   "cell_type": "code",
   "execution_count": null,
   "id": "975cccc1",
   "metadata": {},
   "outputs": [],
   "source": [
    "#50 How can you pick a random item from a list or tuple? \n",
    "\"\"\"Select randomly n elements from a list using choice() The choice() method is used to return a random number from given \n",
    "sequence. The sequence can be a list or a tuple. This returns a single value from available data that considers duplicate \n",
    "values in the sequence(list).\"\"\""
   ]
  },
  {
   "cell_type": "code",
   "execution_count": null,
   "id": "908cbd12",
   "metadata": {},
   "outputs": [],
   "source": [
    "#51 How can you pick a random item from a range?\n",
    "\"\"\"\n",
    "Use a random. randrange() function to get a random integer number from the given exclusive range by specifying the \n",
    "increment. For example, random. randrange(0, 10, 2) will return any random number between 0 and 20 (like 0, 2, 4, 6, 8).\n",
    "\"\"\"\n"
   ]
  },
  {
   "cell_type": "code",
   "execution_count": null,
   "id": "3e44306f",
   "metadata": {},
   "outputs": [],
   "source": [
    "#52 How can you get a random number in python? \n",
    "\n",
    "\"\"\"To generate random number in Python, randint() function is used. This function is defined in random module.\"\"\""
   ]
  },
  {
   "cell_type": "code",
   "execution_count": null,
   "id": "3e31fad1",
   "metadata": {},
   "outputs": [],
   "source": [
    "#53 How will you set the starting value in generating random numbers?\n",
    "\n",
    "\"\"\"The seed() method is used to initialize the random number generator. The random number generator needs a number \n",
    "to start with (a seed value), to be able to generate a random number. By default the random number generator uses \n",
    "the current system time.\"\"\""
   ]
  },
  {
   "cell_type": "code",
   "execution_count": null,
   "id": "4445c2e6",
   "metadata": {},
   "outputs": [],
   "source": [
    "#54 How will you randomizes the items of a list in place? \n",
    "\"The shuffle() method randomizes the items of a list in place.\""
   ]
  },
  {
   "cell_type": "code",
   "execution_count": 3,
   "id": "ef317a91",
   "metadata": {},
   "outputs": [],
   "source": [
    "#55 Write a Python program to read a random line from a file.\n",
    "import random\n",
    "\n",
    "# Open the file in read mode\n",
    "with open(\"MyFile.txt\", \"r\") as file:\n",
    " allText = file.read()\n",
    " words = list(map(str, allText.split()))\n",
    "\n",
    " # print random string\n",
    " print(random.choice(words))\n"
   ]
  },
  {
   "cell_type": "code",
   "execution_count": 4,
   "id": "393341ea",
   "metadata": {},
   "outputs": [
    {
     "name": "stdout",
     "output_type": "stream",
     "text": [
      "Input degrees: 90\n",
      "1.5714285714285714\n"
     ]
    }
   ],
   "source": [
    "#56 Write a Python program to convert degree to radian \n",
    "pi=22/7\n",
    "degree = float(input(\"Input degrees: \"))\n",
    "radian = degree*(pi/180)\n",
    "print(radian)\n"
   ]
  },
  {
   "cell_type": "code",
   "execution_count": 5,
   "id": "baff06e3",
   "metadata": {},
   "outputs": [
    {
     "name": "stdout",
     "output_type": "stream",
     "text": [
      "Height of trapezoid: 5\n",
      "Base one value: 5\n",
      "Base two value: 5\n",
      "Area is: 25.0\n"
     ]
    }
   ],
   "source": [
    "#57 Write a Python program to calculate the area of a trapezoid\n",
    "base_1 = 5\n",
    "base_2 = 6\n",
    "height = float(input(\"Height of trapezoid: \"))\n",
    "base_1 = float(input('Base one value: '))\n",
    "base_2 = float(input('Base two value: '))\n",
    "area = ((base_1 + base_2) / 2) * height\n",
    "print(\"Area is:\", area)\n"
   ]
  },
  {
   "cell_type": "code",
   "execution_count": 6,
   "id": "4eca2d5d",
   "metadata": {},
   "outputs": [
    {
     "name": "stdout",
     "output_type": "stream",
     "text": [
      "Length of base: 50\n",
      "Measurement of height: 5\n",
      "Area is:  250.0\n"
     ]
    }
   ],
   "source": [
    "#58 Write a Python program to calculate the area of a parallelogram\n",
    "base = float(input('Length of base: '))\n",
    "height = float(input('Measurement of height: '))\n",
    "area = base * height\n",
    "print(\"Area is: \", area)"
   ]
  },
  {
   "cell_type": "code",
   "execution_count": null,
   "id": "431b74fd",
   "metadata": {},
   "outputs": [],
   "source": [
    "#59 Write a Python program to calculate surface volume and area of a cylinder \n"
   ]
  },
  {
   "cell_type": "code",
   "execution_count": 2,
   "id": "aecf1785",
   "metadata": {},
   "outputs": [
    {
     "name": "stdout",
     "output_type": "stream",
     "text": [
      "7\n",
      "16\n"
     ]
    }
   ],
   "source": [
    "#60 Write a Python program to returns sum of all divisors of a number\n",
    "def sum_div(number):\n",
    "    divisors = [1]\n",
    "    for i in range(2, number):\n",
    "        if (number % i)==0:\n",
    "            divisors.append(i)\n",
    "    return sum(divisors)\n",
    "print(sum_div(8))\n",
    "print(sum_div(12))"
   ]
  },
  {
   "cell_type": "code",
   "execution_count": 8,
   "id": "23299a8a",
   "metadata": {},
   "outputs": [
    {
     "name": "stdout",
     "output_type": "stream",
     "text": [
      "Maximum:  7.25\n",
      "Minimum:  0.04\n"
     ]
    }
   ],
   "source": [
    "#61 Write a Python program to find the maximum and minimum numbers from the specified decimal numbers.\n",
    "from decimal import *\n",
    "data = list(map(Decimal, '2.45 2.69 2.45 3.45 2.00 0.04 7.25'.split()))\n",
    "print(\"Maximum: \", max(data))\n",
    "print(\"Minimum: \", min(data))\n"
   ]
  },
  {
   "cell_type": "code",
   "execution_count": null,
   "id": "125da310",
   "metadata": {},
   "outputs": [],
   "source": []
  }
 ],
 "metadata": {
  "kernelspec": {
   "display_name": "Python 3 (ipykernel)",
   "language": "python",
   "name": "python3"
  },
  "language_info": {
   "codemirror_mode": {
    "name": "ipython",
    "version": 3
   },
   "file_extension": ".py",
   "mimetype": "text/x-python",
   "name": "python",
   "nbconvert_exporter": "python",
   "pygments_lexer": "ipython3",
   "version": "3.9.12"
  }
 },
 "nbformat": 4,
 "nbformat_minor": 5
}
