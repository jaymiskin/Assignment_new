{
 "cells": [
  {
   "cell_type": "markdown",
   "id": "ecc04127",
   "metadata": {},
   "source": [
    "# Assignment Module 2"
   ]
  },
  {
   "cell_type": "code",
   "execution_count": 1,
   "id": "7b7acf49",
   "metadata": {},
   "outputs": [
    {
     "name": "stdout",
     "output_type": "stream",
     "text": [
      "enter a Number: 5\n",
      "5.0  is Positive\n"
     ]
    }
   ],
   "source": [
    "# Q1 Write a Python program to check if a number is positive, negative or zero.\n",
    "\n",
    "\n",
    "num = float(input(\"enter a Number: \"))\n",
    "if num > 0:\n",
    "    print(num, \" is Positive\")\n",
    "elif num == 0:\n",
    "    print(\"Zero\")\n",
    "else :\n",
    "    print(\" is Negative\")"
   ]
  },
  {
   "cell_type": "code",
   "execution_count": null,
   "id": "aec750a6",
   "metadata": {},
   "outputs": [],
   "source": [
    "# Q2 Write a Python program to get the Factorial number of given number.\n",
    "\n",
    "n = input(\"Enter a number: \")\n",
    "factorial = 1\n",
    "if int(n) >= 1:\n",
    " for i in range (1,int(n)+1):\n",
    "   factorial = factorial * i\n",
    " print(\"Factorail of \",n , \" is : \",factorial)"
   ]
  },
  {
   "cell_type": "code",
   "execution_count": 12,
   "id": "67f0a062",
   "metadata": {},
   "outputs": [
    {
     "name": "stdout",
     "output_type": "stream",
     "text": [
      "The factorial of 7 is 5040\n"
     ]
    }
   ],
   "source": [
    "# Q2 Write a Python program to get the Factorial number of given number.\n",
    "\n",
    "# Python program to find the factorial of a number provided by the user.\n",
    "\n",
    "# change the value for a different result\n",
    "num = 7\n",
    "\n",
    "# To take input from the user\n",
    "#num = int(input(\"Enter a number: \"))\n",
    "\n",
    "factorial = 1\n",
    "\n",
    "# check if the number is negative, positive or zero\n",
    "if num < 0:\n",
    "   print(\"Sorry, factorial does not exist for negative numbers\")\n",
    "elif num == 0:\n",
    "   print(\"The factorial of 0 is 1\")\n",
    "else:\n",
    "   for i in range(1,num + 1):\n",
    "       factorial = factorial*i\n",
    "   print(\"The factorial of\",num,\"is\",factorial)"
   ]
  },
  {
   "cell_type": "code",
   "execution_count": 2,
   "id": "10048cf7",
   "metadata": {},
   "outputs": [
    {
     "name": "stdout",
     "output_type": "stream",
     "text": [
      "How many terms? 5\n",
      "Fibonacci sequence:\n",
      "0\n",
      "1\n",
      "1\n",
      "2\n",
      "3\n"
     ]
    }
   ],
   "source": [
    "# Q3 \n",
    "# Program to display the Fibonacci sequence up to n-th term\n",
    "\n",
    "nterms = int(input(\"How many terms? \"))\n",
    "\n",
    "# first two terms\n",
    "n1, n2 = 0, 1\n",
    "count = 0\n",
    "\n",
    "# check if the number of terms is valid\n",
    "if nterms <= 0:\n",
    "   print(\"Please enter a positive integer\")\n",
    "# if there is only one term, return n1\n",
    "elif nterms == 1:\n",
    "   print(\"Fibonacci sequence upto\",nterms,\":\")\n",
    "   print(n1)\n",
    "# generate fibonacci sequence\n",
    "else:\n",
    "   print(\"Fibonacci sequence:\")\n",
    "   while count < nterms:\n",
    "       print(n1)\n",
    "       nth = n1 + n2\n",
    "       # update values\n",
    "       n1 = n2\n",
    "       n2 = nth\n",
    "       count += 1"
   ]
  },
  {
   "cell_type": "code",
   "execution_count": null,
   "id": "1ab2a58e",
   "metadata": {},
   "outputs": [],
   "source": [
    "# Q4 = How memory is managed in Python?\n",
    "\n",
    "'''Memory management in Python involves a private heap containing all Python objects and data structures.\n",
    "The management of this private heap is ensured internally by the Python memory manager.\n",
    "\n",
    "    Memory Management in Lists and Tuples\n",
    "    1. Both are sequence data types.\n",
    "    2. Each item stored in a list can be of any data type.\n",
    "    3. Elements can be accessed by indexing and slicing.\n",
    "    4. Both allow duplicates. Let's see how they are different with examples.\n",
    "'''"
   ]
  },
  {
   "cell_type": "code",
   "execution_count": null,
   "id": "10fbc586",
   "metadata": {},
   "outputs": [],
   "source": [
    "#  Q5 What is the purpose continue statement in python?\n",
    "\n",
    "'''\n",
    "The continue statement passes control to the next iteration of the nearest enclosing do, for, or while statement \n",
    "in which it appears, bypassing any remaining statements in the do , for , or while statement body.\n",
    "'''"
   ]
  },
  {
   "cell_type": "code",
   "execution_count": 2,
   "id": "eb562ec3",
   "metadata": {},
   "outputs": [
    {
     "name": "stdout",
     "output_type": "stream",
     "text": [
      "Enter value of x: 50\n",
      "Enter value of y: 4\n",
      "The value of x after swapping: 50\n",
      "The value of y after swapping: 4\n"
     ]
    }
   ],
   "source": [
    "# Q6 \n",
    "\n",
    "# Python program to swap two variables\n",
    "\n",
    "# To take inputs from the user\n",
    "x = input('Enter value of x: ')\n",
    "y = input('Enter value of y: ')\n",
    "\n",
    "print('The value of x after swapping: {}'.format(x))\n",
    "print('The value of y after swapping: {}'.format(y))\n",
    "\n",
    "# Python program to swap two variables\n",
    "\n",
    "x = 5\n",
    "y = 10\n",
    "\n",
    "# To take inputs from the user\n",
    "#x = input('Enter value of x: ')\n",
    "#y = input('Enter value of y: ')\n",
    "\n",
    "# create a temporary variable and swap the values\n",
    "#temp = x\n",
    "#x = y\n",
    "#y = temp\n",
    "\n",
    "print('The value of x after swapping: {}'.format(x))\n",
    "print('The value of y after swapping: {}'.format(y))"
   ]
  },
  {
   "cell_type": "code",
   "execution_count": 2,
   "id": "36ecc1f2",
   "metadata": {},
   "outputs": [
    {
     "name": "stdout",
     "output_type": "stream",
     "text": [
      "Enter a number: 11\n",
      "11 is Odd\n"
     ]
    }
   ],
   "source": [
    "# Q7 \n",
    "\n",
    "# Python program to check if the input number is odd or even.\n",
    "# A number is even if division by 2 gives a remainder of 0.\n",
    "# If the remainder is 1, it is an odd number.\n",
    "\n",
    "num = int(input(\"Enter a number: \"))\n",
    "if (num % 2) == 0:\n",
    "   print(\"{0} is Even\".format(num))\n",
    "else:\n",
    "   print(\"{0} is Odd\".format(num))"
   ]
  },
  {
   "cell_type": "code",
   "execution_count": 5,
   "id": "d5bdbd01",
   "metadata": {},
   "outputs": [
    {
     "name": "stdout",
     "output_type": "stream",
     "text": [
      "Enter a number: 20\n",
      "This is an even number.\n"
     ]
    }
   ],
   "source": [
    "# Q8 \n",
    "\n",
    "num = int(input(\"Enter a number: \"))\n",
    "mod = num % 2\n",
    "if mod > 0:\n",
    "    print(\"This is an odd number.\")\n",
    "else:\n",
    "    print(\"This is an even number.\")"
   ]
  },
  {
   "cell_type": "code",
   "execution_count": 9,
   "id": "9f859c24",
   "metadata": {},
   "outputs": [
    {
     "name": "stdout",
     "output_type": "stream",
     "text": [
      "Input a letter of the alphabet: 1\n",
      "1 is a consonant.\n"
     ]
    }
   ],
   "source": [
    "# Q9 \n",
    "\n",
    "\n",
    "l = input(\"Input a letter of the alphabet: \")\n",
    "\n",
    "if l in ('a', 'e', 'i', 'o', 'u'):\n",
    "    print(\"%s is a vowel.\" % l)\n",
    "elif l == 'y':\n",
    "    print(\"Sometimes letter y stand for vowel, sometimes stand for consonant.\")\n",
    "else:\n",
    "    print(\"%s is a consonant.\" % l) \n"
   ]
  },
  {
   "cell_type": "code",
   "execution_count": 24,
   "id": "50768f5d",
   "metadata": {},
   "outputs": [],
   "source": [
    "# Q10 \n",
    "\n"
   ]
  },
  {
   "cell_type": "code",
   "execution_count": 1,
   "id": "fc06f72c",
   "metadata": {},
   "outputs": [
    {
     "name": "stdout",
     "output_type": "stream",
     "text": [
      "Input a number: 5\n",
      "Sum of the first 5 positive integers: 15.0\n"
     ]
    }
   ],
   "source": [
    "# Q11 \n",
    "n = int(input(\"Input a number: \"))\n",
    "sum_num = (n * (n + 1)) / 2\n",
    "print(\"Sum of the first\", n ,\"positive integers:\", sum_num)"
   ]
  },
  {
   "cell_type": "code",
   "execution_count": 20,
   "id": "32dc28af",
   "metadata": {},
   "outputs": [
    {
     "name": "stdout",
     "output_type": "stream",
     "text": [
      "Enter a string: Abhishek\n",
      "Length of the input string is: 8\n"
     ]
    }
   ],
   "source": [
    "# Q12 \n",
    "\n",
    "# User inputs the string and it gets stored in variable str\n",
    "str = input(\"Enter a string: \")\n",
    "\n",
    "# counter variable to count the character in a string\n",
    "counter = 0\n",
    "for s in str:\n",
    "      counter = counter+1\n",
    "print(\"Length of the input string is:\", counter)"
   ]
  },
  {
   "cell_type": "code",
   "execution_count": 14,
   "id": "936a5b75",
   "metadata": {},
   "outputs": [
    {
     "name": "stdout",
     "output_type": "stream",
     "text": [
      "Count of all characters in GeeksforGeeks is :\n",
      " {'G': 2, 'e': 4, 'k': 2, 's': 2, 'f': 1, 'o': 1, 'r': 1}\n"
     ]
    }
   ],
   "source": [
    "# Q13\n",
    "\n",
    "# using naive method to get count \n",
    "# of each element in string \n",
    "# Python3 code to demonstrate \n",
    "# each occurrence frequency using \n",
    "# naive method \n",
    "  \n",
    "# initializing string \n",
    "test_str = \"GeeksforGeeks\"\n",
    "all_freq = {}\n",
    "  \n",
    "for i in test_str:\n",
    "    if i in all_freq:\n",
    "        all_freq[i] += 1\n",
    "    else:\n",
    "        all_freq[i] = 1\n",
    "# printing result \n",
    "print (\"Count of all characters in GeeksforGeeks is :\\n \"+  str(all_freq))"
   ]
  },
  {
   "cell_type": "code",
   "execution_count": null,
   "id": "0121b4f7",
   "metadata": {},
   "outputs": [],
   "source": [
    "# Q14 = What are negative indexes and why are they used?\n",
    "\n",
    "'''\n",
    "As we know, indexes are used in arrays in all the programming languages. We can access the elements of an array by \n",
    "going through their indexes. But no programming language allows us to use a negative index value such as -4. Python \n",
    "programming language supports negative indexing of arrays, something which is not available in arrays in most other \n",
    "programming languages. This means that the index value of -1 gives the last element, and -2 gives the second last \n",
    "element of an array. The negative indexing starts from where the array ends. This means that the last element of \n",
    "the array is the first element in the negative indexing which is -1.\n",
    "\n",
    "Example:\n",
    "arr = [10, 20, 30, 40, 50]\n",
    "print (arr[-1])\n",
    "print (arr[-2])\n",
    "\n",
    "Output:\n",
    "50\n",
    "40\n",
    "'''"
   ]
  },
  {
   "cell_type": "code",
   "execution_count": 22,
   "id": "34286fae",
   "metadata": {},
   "outputs": [
    {
     "name": "stdout",
     "output_type": "stream",
     "text": [
      "\n",
      "1\n",
      "\n"
     ]
    }
   ],
   "source": [
    "# Q15\n",
    "\n",
    "str1 = 'The quick brown fox jumps over the lazy dog.'\n",
    "print()\n",
    "print(str1.count(\"fox\"))\n",
    "print()"
   ]
  },
  {
   "cell_type": "code",
   "execution_count": 2,
   "id": "f0639454",
   "metadata": {},
   "outputs": [
    {
     "name": "stdout",
     "output_type": "stream",
     "text": [
      "Number of occurrences found in the string:\n",
      "2\n"
     ]
    }
   ],
   "source": [
    "# Q16\n",
    "\n",
    "string=\"This is a sample Python program, Welcome to World Of Python Programming!\"\n",
    "word=\"Python\"\n",
    "list=[]\n",
    "wordCount=0\n",
    "list=string.split(\" \")\n",
    "for i in range(0,len(list)):\n",
    "      if(word==list[i]):\n",
    "            wordCount=wordCount+1\n",
    "print(\"Number of occurrences found in the string:\")\n",
    "print(wordCount)"
   ]
  },
  {
   "cell_type": "code",
   "execution_count": 16,
   "id": "bd2f27ab",
   "metadata": {},
   "outputs": [
    {
     "name": "stdout",
     "output_type": "stream",
     "text": [
      "ZYX CBA\n"
     ]
    }
   ],
   "source": [
    "# Q17 \n",
    "\n",
    "txt = \"ABC XYZ\"[::-1]\n",
    "print(txt)"
   ]
  },
  {
   "cell_type": "code",
   "execution_count": 18,
   "id": "4f8db4f2",
   "metadata": {},
   "outputs": [
    {
     "name": "stdout",
     "output_type": "stream",
     "text": [
      "Abhing\n",
      "Abhingly\n"
     ]
    }
   ],
   "source": [
    "# Q18 \n",
    "\n",
    "string = input()\n",
    "if len(string) < 3:\n",
    "  print(string)\n",
    "elif string[-3:] == 'ing':\n",
    "  print(string + 'ly')\n",
    "else:\n",
    "  print(string + 'ing')"
   ]
  },
  {
   "cell_type": "code",
   "execution_count": 27,
   "id": "0e406e5f",
   "metadata": {},
   "outputs": [
    {
     "name": "stdout",
     "output_type": "stream",
     "text": [
      "The lyrics is good!\n",
      "The lyrics is poor!\n"
     ]
    }
   ],
   "source": [
    "# Q19 \n"
   ]
  },
  {
   "cell_type": "code",
   "execution_count": 4,
   "id": "bf594ffd",
   "metadata": {},
   "outputs": [
    {
     "name": "stdout",
     "output_type": "stream",
     "text": [
      "\n",
      "Longest word:  Exercises\n",
      "Length of the longest word:  9\n"
     ]
    }
   ],
   "source": [
    "# Q20 \n",
    "\n",
    "find_longest_word = [\"PHP\", \"Exercises\", \"Backend\"]\n",
    "x = len(find_longest_word[1])\n",
    "print(\"\\nLongest word: \",find_longest_word[1])\n",
    "print(\"Length of the longest word: \",x)"
   ]
  },
  {
   "cell_type": "code",
   "execution_count": 3,
   "id": "c2b98416",
   "metadata": {},
   "outputs": [
    {
     "name": "stdout",
     "output_type": "stream",
     "text": [
      "enter a name:Abhi\n",
      "ihbA\n"
     ]
    }
   ],
   "source": [
    "# Q21\n",
    "\n",
    "name=input(\"enter a name:\")\n",
    "\n",
    "if(len(name)%4==0):\n",
    "    print(name[::-1])\n",
    "else:\n",
    "    print(name)"
   ]
  },
  {
   "cell_type": "code",
   "execution_count": 21,
   "id": "cf4f6f99",
   "metadata": {},
   "outputs": [
    {
     "name": "stdout",
     "output_type": "stream",
     "text": [
      "Input string = ABCDEFGHI\n",
      "New String = ABHI\n"
     ]
    }
   ],
   "source": [
    "# Q22\n",
    "\n",
    "# Taking input from the user\n",
    "inputString = \"ABCDEFGHI\"\n",
    " \n",
    "count = 0\n",
    " \n",
    "# Loop through the string\n",
    "for i in inputString:\n",
    "      count = count + 1\n",
    "newString = inputString[ 0:2 ] + inputString [count - 2: count ]\n",
    " \n",
    "# Printing the new String\n",
    "print(\"Input string = \" + inputString)\n",
    "print(\"New String = \"+ newString)"
   ]
  },
  {
   "cell_type": "code",
   "execution_count": 23,
   "id": "39f3845b",
   "metadata": {},
   "outputs": [
    {
     "name": "stdout",
     "output_type": "stream",
     "text": [
      "The original string is : Hello Tops Student\n",
      "Formulated String : Hello best Tops Student\n"
     ]
    }
   ],
   "source": [
    "# Q23\n",
    "\n",
    "# Python3 code to demonstrate working of\n",
    "# Add Phrase in middle of String\n",
    "# Using split() + slicing + join()\n",
    " \n",
    "# initializing string\n",
    "test_str = 'Hello Tops Student'\n",
    " \n",
    "# printing original string\n",
    "print(\"The original string is : \" + str(test_str))\n",
    " \n",
    "# initializing mid string\n",
    "mid_str = \"best\"\n",
    " \n",
    "# splitting string to list\n",
    "temp = test_str.split()\n",
    "mid_pos = len(temp) // 2\n",
    " \n",
    "# appending in mid\n",
    "res = temp[:mid_pos] + [mid_str] + temp[mid_pos:]\n",
    " \n",
    "# conversion back\n",
    "res = ' '.join(res)\n",
    " \n",
    "# printing result\n",
    "print(\"Formulated String : \" + str(res))"
   ]
  },
  {
   "cell_type": "code",
   "execution_count": null,
   "id": "8649ba1b",
   "metadata": {},
   "outputs": [],
   "source": []
  }
 ],
 "metadata": {
  "kernelspec": {
   "display_name": "Python 3 (ipykernel)",
   "language": "python",
   "name": "python3"
  },
  "language_info": {
   "codemirror_mode": {
    "name": "ipython",
    "version": 3
   },
   "file_extension": ".py",
   "mimetype": "text/x-python",
   "name": "python",
   "nbconvert_exporter": "python",
   "pygments_lexer": "ipython3",
   "version": "3.9.12"
  }
 },
 "nbformat": 4,
 "nbformat_minor": 5
}
