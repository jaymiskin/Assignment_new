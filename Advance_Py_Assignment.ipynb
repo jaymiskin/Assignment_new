{
 "cells": [
  {
   "cell_type": "markdown",
   "id": "a5b0f557",
   "metadata": {},
   "source": [
    "<h4>1. What is File function in python? What is keywords to create and write \n",
    "file.</h4>"
   ]
  },
  {
   "cell_type": "markdown",
   "id": "9cb3a3fa",
   "metadata": {},
   "source": [
    "<p>Ans. Python has a built-in open() function to open a file. This function returns a file object, also called a handle, as it is used to read or modify the file accordingly. We can specify the mode while opening a file. In mode, we specify whether we want to read r , write w or append a to the file.</p>"
   ]
  },
  {
   "cell_type": "markdown",
   "id": "fcc8dd12",
   "metadata": {},
   "source": [
    "<h4>2. Write a Python program to read an entire text file.</h4>"
   ]
  },
  {
   "cell_type": "code",
   "execution_count": 10,
   "id": "4e17d089",
   "metadata": {},
   "outputs": [
    {
     "name": "stdout",
     "output_type": "stream",
     "text": [
      "Hello mate \n",
      "\n",
      "How are you? \n",
      "\n",
      "Enter Something More about you \\nxyz123\n",
      "\n",
      "Good Morning/nHello World/nHello World/nHello World/nHello World/nHello World\n"
     ]
    }
   ],
   "source": [
    "f = open(\"demo.txt\", \"r\")\n",
    "\n",
    "for line in f:\n",
    "    print(line)\n",
    "f.close()"
   ]
  },
  {
   "cell_type": "markdown",
   "id": "c4bd5aa6",
   "metadata": {},
   "source": [
    "#### 3. Write a Python program to append text to a file and display the text."
   ]
  },
  {
   "cell_type": "code",
   "execution_count": 13,
   "id": "cd6de3a1",
   "metadata": {},
   "outputs": [
    {
     "name": "stdout",
     "output_type": "stream",
     "text": [
      "Hello mate \n",
      "\n",
      "How are you? \n",
      "\n",
      "Enter Something More about you \\nxyz123\n",
      "\n",
      "Good Morning/nHello World/nHello World/nHello World/nHello World/nHello WorldHello WorldHello WorldHello World\n"
     ]
    }
   ],
   "source": [
    "a = open(\"demo.txt\", \"a\")\n",
    "a.write(\"Hello World\")\n",
    "a.close()\n",
    "A = open(\"demo.txt\", \"r\")\n",
    "\n",
    "for lines in A:\n",
    "    print(lines)\n",
    "A.close()\n"
   ]
  },
  {
   "cell_type": "markdown",
   "id": "97152925",
   "metadata": {},
   "source": [
    "#### 4. Write a Python program to read first n lines of a file"
   ]
  },
  {
   "cell_type": "code",
   "execution_count": 14,
   "id": "0f12b5be",
   "metadata": {},
   "outputs": [
    {
     "name": "stdout",
     "output_type": "stream",
     "text": [
      "Hello mate \n",
      "\n"
     ]
    }
   ],
   "source": [
    "fi = open(\"demo.txt\", \"r\")\n",
    "print(fi.readline())"
   ]
  },
  {
   "cell_type": "markdown",
   "id": "d509ae37",
   "metadata": {},
   "source": [
    "#### 5. Write a Python program to read last n lines of a file."
   ]
  },
  {
   "cell_type": "code",
   "execution_count": null,
   "id": "766838da",
   "metadata": {},
   "outputs": [],
   "source": []
  },
  {
   "cell_type": "markdown",
   "id": "767ea842",
   "metadata": {},
   "source": [
    "#### 6. Write a Python program to read a file line by line and store it into a list"
   ]
  },
  {
   "cell_type": "code",
   "execution_count": 18,
   "id": "462fcb54",
   "metadata": {},
   "outputs": [
    {
     "name": "stdout",
     "output_type": "stream",
     "text": [
      "['Hello mate \\n', 'How are you? \\n', 'Enter Something More about you \\\\nxyz123\\n', 'Good Morning/nHello World/nHello World/nHello World/nHello World/nHello WorldHello WorldHello WorldHello World']\n"
     ]
    }
   ],
   "source": [
    "def file_read(fname):\n",
    "        with open(fname) as f:\n",
    "                #li_st is the list that contains the read lines.     \n",
    "                li_st = f.readlines()\n",
    "                print(li_st)\n",
    "\n",
    "file_read(\"demo.txt\")\n"
   ]
  },
  {
   "cell_type": "markdown",
   "id": "e2cdeb0f",
   "metadata": {},
   "source": [
    "#### 7. Write a Python program to read a file line by line store it into a variable."
   ]
  },
  {
   "cell_type": "code",
   "execution_count": 19,
   "id": "ac12b9e5",
   "metadata": {},
   "outputs": [
    {
     "name": "stdout",
     "output_type": "stream",
     "text": [
      "['Hello mate \\n', 'How are you? \\n', 'Enter Something More about you \\\\nxyz123\\n', 'Good Morning/nHello World/nHello World/nHello World/nHello World/nHello WorldHello WorldHello WorldHello World']\n"
     ]
    }
   ],
   "source": [
    "def file_read(fname):\n",
    "        with open(fname) as f:\n",
    "                #li_st is the list that contains the read lines.     \n",
    "                li_st = f.readlines()\n",
    "                print(li_st)\n",
    "\n",
    "file_read(\"demo.txt\")"
   ]
  },
  {
   "cell_type": "markdown",
   "id": "be4de023",
   "metadata": {},
   "source": [
    "#### 8. Write a python program to find the longest words. "
   ]
  },
  {
   "cell_type": "code",
   "execution_count": 22,
   "id": "90d09a0f",
   "metadata": {},
   "outputs": [
    {
     "name": "stdout",
     "output_type": "stream",
     "text": [
      "Enter sentence: abhishek miskin\n",
      "Longest word is:  abhishek\n",
      "And its length is:  8\n"
     ]
    }
   ],
   "source": [
    "sentence = input(\"Enter sentence: \")\n",
    "\n",
    "# Finding longest word\n",
    "longest = max(sentence.split(), key=len)\n",
    "\n",
    "# Displaying longest word\n",
    "print(\"Longest word is: \", longest)\n",
    "print(\"And its length is: \", len(longest))"
   ]
  },
  {
   "cell_type": "markdown",
   "id": "12b1b4b1",
   "metadata": {},
   "source": [
    "#### 9. Write a Python program to count the number of lines in a text file. "
   ]
  },
  {
   "cell_type": "code",
   "execution_count": 24,
   "id": "1f452ac0",
   "metadata": {},
   "outputs": [
    {
     "name": "stdout",
     "output_type": "stream",
     "text": [
      "Total Number of lines: 4\n"
     ]
    }
   ],
   "source": [
    "with open(\"demo.txt\", 'r') as f:\n",
    "    lines = len(f.readlines())\n",
    "    print('Total Number of lines:', lines)"
   ]
  },
  {
   "cell_type": "markdown",
   "id": "b3bafbb9",
   "metadata": {},
   "source": [
    "#### 10. Write a Python program to count the frequency of words in a file. "
   ]
  },
  {
   "cell_type": "code",
   "execution_count": 27,
   "id": "8cd65bfa",
   "metadata": {},
   "outputs": [
    {
     "name": "stdout",
     "output_type": "stream",
     "text": [
      "Enter the file name: demo.txt\n",
      "{'Hello': 1, 'mate': 1, 'How': 1, 'are': 1, 'you?': 1, 'Enter': 1, 'Something': 1, 'More': 1, 'about': 1, 'you': 1, '\\\\nxyz123': 1, 'Good': 1, 'Morning/nHello': 1, 'World/nHello': 4, 'WorldHello': 3, 'World': 1}\n"
     ]
    }
   ],
   "source": [
    "fname = input('Enter the file name: ')\n",
    "try:\n",
    "    fhand = open(fname)\n",
    "    counts = dict()\n",
    "    for line in fhand:\n",
    "        words = line.split()\n",
    "        for word in words:\n",
    "            if word in counts:\n",
    "                counts[word] += 1\n",
    "            else:\n",
    "                counts[word] = 1\n",
    "    print(counts)\n",
    "except:\n",
    "    print('File cannot be opened:', fname)"
   ]
  },
  {
   "cell_type": "markdown",
   "id": "a7093514",
   "metadata": {},
   "source": [
    "#### 11.Write a Python program to write a list to a file. "
   ]
  },
  {
   "cell_type": "code",
   "execution_count": 38,
   "id": "d8917729",
   "metadata": {},
   "outputs": [
    {
     "name": "stdout",
     "output_type": "stream",
     "text": [
      "Done\n",
      "Done\n",
      "Done\n"
     ]
    }
   ],
   "source": [
    "# list of names\n",
    "names = ['Jessa', 'Eric', 'Bob']\n",
    "\n",
    "# open file in write mode\n",
    "with open('main.txt', 'w') as fi:\n",
    "    for item in names:\n",
    "        fi.write(item)\n",
    "        print(\"Done\")"
   ]
  },
  {
   "cell_type": "markdown",
   "id": "44e070d7",
   "metadata": {},
   "source": [
    "#### 12.Write a Python program to copy the contents of a file to another file. "
   ]
  },
  {
   "cell_type": "code",
   "execution_count": 42,
   "id": "2a5a7273",
   "metadata": {},
   "outputs": [],
   "source": [
    "# open both files\n",
    "with open('demo.txt','r') as firstfile, open('second.txt','a') as secondfile:\n",
    "    \n",
    "    for f in firstfile:\n",
    "    \n",
    "        secondfile.write(f)"
   ]
  },
  {
   "cell_type": "markdown",
   "id": "908ebe8e",
   "metadata": {},
   "source": [
    "#### 13.Explain Exception handling? What is an Error in Python? "
   ]
  },
  {
   "cell_type": "markdown",
   "id": "f7616b3d",
   "metadata": {},
   "source": [
    "<p>An Exception is an error that happens during the execution of a program. Whenever there is an error, Python generates an exception that could be handled. It basically prevents the program from getting crashed.</p>"
   ]
  },
  {
   "cell_type": "markdown",
   "id": "36edcedc",
   "metadata": {},
   "source": [
    "#### 14.How many except statements can a try-except block have? Name Some built-in exception classes:"
   ]
  },
  {
   "cell_type": "markdown",
   "id": "aa864a91",
   "metadata": {},
   "source": [
    "<p>There has to be at least one except statement.</p>"
   ]
  },
  {
   "cell_type": "markdown",
   "id": "f4caa538",
   "metadata": {},
   "source": [
    "#### 15.There has to be at least one except statement."
   ]
  },
  {
   "cell_type": "markdown",
   "id": "5cf67e76",
   "metadata": {},
   "source": [
    "<p>The else part is executed when no exception occurs.</p>"
   ]
  },
  {
   "cell_type": "markdown",
   "id": "a5e2537c",
   "metadata": {},
   "source": [
    "#### 16.Can one block of except statements handle multiple exception?"
   ]
  },
  {
   "cell_type": "markdown",
   "id": "f8759315",
   "metadata": {},
   "source": [
    "<p>yes, like except TypeError, SyntaxError [,…]</p>\n",
    "<p>Each type of exception can be specified directly. There is no need to put it in a list.</p>"
   ]
  },
  {
   "cell_type": "markdown",
   "id": "8eb6c792",
   "metadata": {},
   "source": [
    "#### 17.When is the finally block executed? "
   ]
  },
  {
   "cell_type": "markdown",
   "id": "2b294732",
   "metadata": {},
   "source": [
    "<p>always</p>\n",
    "<p>The finally block is always executed.</p>"
   ]
  },
  {
   "cell_type": "markdown",
   "id": "b873171b",
   "metadata": {},
   "source": [
    "#### 18.What happens when „1‟== 1 is executed? "
   ]
  },
  {
   "cell_type": "markdown",
   "id": "35d1d575",
   "metadata": {},
   "source": [
    "<p>we get a false</p>\n",
    "<p>it simply evaluates to false and does not raise any exception.</p>"
   ]
  },
  {
   "cell_type": "markdown",
   "id": "1ce97df7",
   "metadata": {},
   "source": [
    "#### 19.How Do You Handle Exceptions With Try/Except/Finally In Python? Explain with coding snippets."
   ]
  },
  {
   "cell_type": "code",
   "execution_count": 50,
   "id": "54d1f5b0",
   "metadata": {},
   "outputs": [
    {
     "name": "stdout",
     "output_type": "stream",
     "text": [
      "Enter the 1st number : 1\n",
      "Enter the 2nd number: 1\n",
      "1.0\n",
      "VALID\n",
      "I'm always run \n"
     ]
    }
   ],
   "source": [
    "n = int(input(\"Enter the 1st number : \"))\n",
    "r = int(input(\"Enter the 2nd number: \"))\n",
    "\n",
    "try :\n",
    "    summ5 = n/r\n",
    "    print(summ5)        # In-place of summ5 i put suum9 for result \n",
    "\n",
    "except ZeroDivisionError :\n",
    "    print(\"Error Occured\")\n",
    "    \n",
    "except NameError :\n",
    "    print(\"name is done..!!\")\n",
    "    \n",
    "else :\n",
    "    print(\"VALID\")\n",
    "    \n",
    "finally :\n",
    "    print(\"I'm always run \")"
   ]
  },
  {
   "cell_type": "markdown",
   "id": "1faafb57",
   "metadata": {},
   "source": [
    "#### 20.Write python program that user to enter only odd numbers, else will raise an exception."
   ]
  },
  {
   "cell_type": "code",
   "execution_count": 55,
   "id": "de5f62fa",
   "metadata": {},
   "outputs": [
    {
     "name": "stdout",
     "output_type": "stream",
     "text": [
      "Enter a number: 9\n",
      "This is an odd number.\n"
     ]
    }
   ],
   "source": [
    "num = int(input(\"Enter a number: \"))\n",
    "odd = num % 2\n",
    "if odd > 0:\n",
    "    print(\"This is an odd number.\")\n",
    "else:\n",
    "    print(\"This is an even number.\")"
   ]
  },
  {
   "cell_type": "markdown",
   "id": "e54bb1f6",
   "metadata": {},
   "source": [
    "#### 21.What are oops concepts? Is multiple inheritance supported in java"
   ]
  },
  {
   "cell_type": "markdown",
   "id": "7c5aedd1",
   "metadata": {},
   "source": [
    "<p>Inheritance is the central point of Object-Oriented Programming. Java supports Multiple types of Inheritance, but Java does not support Multiple Inheritance. In Multiple Inheritance, <strong>the subclass inherits more than one Super class.</strong> Java Interface would help us in achieving the Multiple Inheritance Program in Java</p>"
   ]
  },
  {
   "cell_type": "markdown",
   "id": "ac527e9f",
   "metadata": {},
   "source": [
    "#### 22.How to Define a Class in Python? What Is Self? Give An Example Of A Python Class"
   ]
  },
  {
   "cell_type": "markdown",
   "id": "141939a3",
   "metadata": {},
   "source": [
    "<p>A class in Python can be defined using the <strong>class</strong> keyword.</p>\n",
    "<p>self <strong>represents the instance of the class.</strong> By using the “self” we can access the attributes and methods of the class in python.</p>"
   ]
  },
  {
   "cell_type": "code",
   "execution_count": 1,
   "id": "ddaee251",
   "metadata": {},
   "outputs": [
    {
     "name": "stdout",
     "output_type": "stream",
     "text": [
      "Address of self =  1812582719296\n",
      "Address of class object =  1812582719296\n"
     ]
    }
   ],
   "source": [
    "class check:\n",
    "    def __init__(self):\n",
    "        print(\"Address of self = \",id(self))\n",
    "  \n",
    "obj = check()\n",
    "print(\"Address of class object = \",id(obj))"
   ]
  },
  {
   "cell_type": "markdown",
   "id": "988daee1",
   "metadata": {},
   "source": [
    "#### 23. Write a Python class named Rectangle constructed by a length and width and a method which will compute the area of a rectangle"
   ]
  },
  {
   "cell_type": "code",
   "execution_count": 2,
   "id": "a717b60f",
   "metadata": {},
   "outputs": [
    {
     "name": "stdout",
     "output_type": "stream",
     "text": [
      "120\n"
     ]
    }
   ],
   "source": [
    "class Rectangle():\n",
    "    def __init__(self, l, w):\n",
    "        self.length = l\n",
    "        self.width  = w\n",
    "\n",
    "    def rectangle_area(self):\n",
    "        return self.length*self.width\n",
    "\n",
    "newRectangle = Rectangle(12, 10)\n",
    "print(newRectangle.rectangle_area())"
   ]
  },
  {
   "cell_type": "markdown",
   "id": "e4873922",
   "metadata": {},
   "source": [
    "#### 24. Write a Python class named Circle constructed by a radius and two methods which will compute the area and the perimeter of a circle "
   ]
  },
  {
   "cell_type": "code",
   "execution_count": null,
   "id": "247eea30",
   "metadata": {},
   "outputs": [],
   "source": []
  },
  {
   "cell_type": "markdown",
   "id": "522f629d",
   "metadata": {},
   "source": [
    "#### 25. Write a Python class named Circle constructed by a radius and two methods which will compute the area and the perimeter of a circle "
   ]
  },
  {
   "cell_type": "code",
   "execution_count": null,
   "id": "8940aa8a",
   "metadata": {},
   "outputs": [],
   "source": []
  },
  {
   "cell_type": "markdown",
   "id": "8aef8697",
   "metadata": {},
   "source": [
    "#### 26. Explain Inheritance in Python with an example? What is init? Or What Is A Constructor In Python? "
   ]
  },
  {
   "cell_type": "markdown",
   "id": "50a016f4",
   "metadata": {},
   "source": [
    "<p>ANS=> Inheritance relationship defines the classes that inherit from other classes as derived, subclass, or sub-type classes.</p>"
   ]
  },
  {
   "cell_type": "markdown",
   "id": "d219b111",
   "metadata": {},
   "source": [
    "<p>The __init__ method is the Python equivalent of the C++ constructor in an object-oriented approach. The __init__ function is called every time an object is created from a class. The __init__ method lets the class initialize the object's attributes and serves no other purpose. It is only used within classes.</p>"
   ]
  },
  {
   "cell_type": "markdown",
   "id": "2040e84a",
   "metadata": {},
   "source": [
    "<p>Class constructors are a fundamental part of object-oriented programming in Python. They allow you to create and properly initialize objects of a given class, making those objects ready to use.14-Mar-2022\n",
    "</p>"
   ]
  },
  {
   "cell_type": "markdown",
   "id": "afdd18c2",
   "metadata": {},
   "source": [
    "#### 27. What is Instantiation in terms of OOP terminology?"
   ]
  },
  {
   "cell_type": "markdown",
   "id": "fe0356eb",
   "metadata": {},
   "source": [
    "<p>ANS=> Instantiate (a verb) and instantiation (the noun) in computer science refer to the creation of an object (or an “instance” of a given class) in an object-oriented programming (OOP) language. Referencing a class declaration, an instantiated object is named and created, in memory or on disk.</p>"
   ]
  },
  {
   "cell_type": "markdown",
   "id": "77d3928c",
   "metadata": {},
   "source": [
    "#### 28. What is used to check whether an object o is an instance of class A?"
   ]
  },
  {
   "cell_type": "markdown",
   "id": "e395630e",
   "metadata": {},
   "source": [
    "<p>Ans=> If you need to check the type of an object, it is recommended to use the Python isinstance() function instead. It's because isinstance() function also checks if the given object is an instance of the subclass.</p>"
   ]
  },
  {
   "cell_type": "markdown",
   "id": "5838c742",
   "metadata": {},
   "source": [
    "#### 29. What relationship is appropriate for Course and Faculty? "
   ]
  },
  {
   "cell_type": "markdown",
   "id": "311d0f34",
   "metadata": {},
   "source": [
    "<p>ANS=> association</p>"
   ]
  },
  {
   "cell_type": "markdown",
   "id": "fe0221b6",
   "metadata": {},
   "source": [
    "#### 30. What relationship is appropriate for Student and Person?"
   ]
  },
  {
   "cell_type": "markdown",
   "id": "6ef6efc7",
   "metadata": {},
   "source": [
    "<p>ANS => association.</p>"
   ]
  },
  {
   "cell_type": "code",
   "execution_count": null,
   "id": "6b15248f",
   "metadata": {},
   "outputs": [],
   "source": []
  }
 ],
 "metadata": {
  "kernelspec": {
   "display_name": "Python 3 (ipykernel)",
   "language": "python",
   "name": "python3"
  },
  "language_info": {
   "codemirror_mode": {
    "name": "ipython",
    "version": 3
   },
   "file_extension": ".py",
   "mimetype": "text/x-python",
   "name": "python",
   "nbconvert_exporter": "python",
   "pygments_lexer": "ipython3",
   "version": "3.9.12"
  }
 },
 "nbformat": 4,
 "nbformat_minor": 5
}
